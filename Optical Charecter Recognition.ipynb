{
 "cells": [
  {
   "cell_type": "code",
   "execution_count": 6,
   "id": "a5385518",
   "metadata": {},
   "outputs": [
    {
     "name": "stdout",
     "output_type": "stream",
     "text": [
      "Adobe, the Adobe logo, Acrobat, the Acrobat logo, Acrobat Capture, Adobe Garamond, Adobe\n",
      "Intelligent Document Platform, Adobe PDF, Adobe Reader, Adobe Solutions Network, Aldus, Dis-\n",
      "tiller, ePaper, Extreme, FrameMaker, Illustrator, InDesign, Minion, Myriad, PageMaker, Photo-\n",
      "shop, Poetica, PostScript, and XMP are either registered trademarks or trademarks of Adobe\n",
      "‘Systems Incorporated in the United States and/or other countries. Microsoft and Windows are\n",
      "either registered trademarks or trademarks of Microsoft Corporation in the United States and/or\n",
      "other countries. Apple, Mac, Macintosh, and Power Macintosh are trademarks of Apple Computer,\n",
      "Inc,, registered in the United States and other countries. IBM is a registered trademark of IBM\n",
      "Corporation in the United States. Sun is a trademark or registered trademark of Sun Microsys-\n",
      "tems, Inc. in the United States and other countries. UNIX is a registered trademark of The Open\n",
      "Group. SVG is a trademark of the World Wide Web Consortium; marks of the W3C are registered\n",
      "and held by its host[institutions|MIT, INRIA and Keio. Helvetica and Times are registered trade-\n",
      "marks of Linotype-Hell AG and/or its subsidiaries. Arial and Times New Roman are trademarks of\n",
      "‘The Monotype Corporation registered in the US. Patent and Trademark Office and may be regis-\n",
      "tered in certain other jurisdictions. ITC Zapf Dingbats is a registered trademark of International\n",
      "‘Typeface Corporation. Ryumin Light is a trademark of Morisawa & Co., Ltd. All other trademarks\n",
      "are the property of their respective owners.\n",
      "\n",
      " \n",
      "\n",
      " \n",
      "\n",
      " \n",
      "\n",
      " \n",
      "\f",
      "\n",
      "Written Successful\n"
     ]
    }
   ],
   "source": [
    "try:\n",
    "    from PIL import Image\n",
    "except ImportError:\n",
    "    import Image\n",
    "\n",
    "import pytesseract\n",
    "pytesseract.pytesseract.tesseract_cmd = r'C:\\Users\\HP.DESKTOP-5IHNLMQ\\Tesseract-OCR\\tesseract.exe'\n",
    "\n",
    "def recText(filename):\n",
    "    text = pytesseract.image_to_string(Image.open(filename))\n",
    "    return text\n",
    "\n",
    "info = recText('test3.png')\n",
    "print(info)\n",
    "file = open(\"result.txt\",\"w\")\n",
    "file.write(info)\n",
    "file.close()\n",
    "print(\"Written Successful\")\n"
   ]
  },
  {
   "cell_type": "code",
   "execution_count": 3,
   "id": "75e8b77d",
   "metadata": {
    "collapsed": true
   },
   "outputs": [
    {
     "name": "stdout",
     "output_type": "stream",
     "text": [
      "Collecting Pytesseract\n",
      "  Using cached pytesseract-0.3.10-py3-none-any.whl (14 kB)\n",
      "Requirement already satisfied: packaging>=21.3 in c:\\users\\hp.desktop-5ihnlmq\\anaconda3\\lib\\site-packages (from Pytesseract) (21.3)\n",
      "Requirement already satisfied: Pillow>=8.0.0 in c:\\users\\hp.desktop-5ihnlmq\\anaconda3\\lib\\site-packages (from Pytesseract) (9.2.0)\n",
      "Requirement already satisfied: pyparsing!=3.0.5,>=2.0.2 in c:\\users\\hp.desktop-5ihnlmq\\anaconda3\\lib\\site-packages (from packaging>=21.3->Pytesseract) (3.0.9)\n",
      "Installing collected packages: Pytesseract\n",
      "Successfully installed Pytesseract-0.3.10\n"
     ]
    }
   ],
   "source": [
    "!pip install Pytesseract"
   ]
  },
  {
   "cell_type": "code",
   "execution_count": null,
   "id": "be3483a8",
   "metadata": {},
   "outputs": [],
   "source": []
  }
 ],
 "metadata": {
  "kernelspec": {
   "display_name": "Python 3 (ipykernel)",
   "language": "python",
   "name": "python3"
  },
  "language_info": {
   "codemirror_mode": {
    "name": "ipython",
    "version": 3
   },
   "file_extension": ".py",
   "mimetype": "text/x-python",
   "name": "python",
   "nbconvert_exporter": "python",
   "pygments_lexer": "ipython3",
   "version": "3.9.13"
  }
 },
 "nbformat": 4,
 "nbformat_minor": 5
}
